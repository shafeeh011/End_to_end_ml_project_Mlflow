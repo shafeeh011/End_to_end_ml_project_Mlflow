{
 "cells": [
  {
   "cell_type": "code",
   "execution_count": 1,
   "metadata": {},
   "outputs": [],
   "source": [
    "import os"
   ]
  },
  {
   "cell_type": "code",
   "execution_count": 2,
   "metadata": {},
   "outputs": [
    {
     "data": {
      "text/plain": [
       "'/home/muhammed-shafeeh/AI_ML/End_to_end_ml_project_Mlflow/research'"
      ]
     },
     "execution_count": 2,
     "metadata": {},
     "output_type": "execute_result"
    }
   ],
   "source": [
    "%pwd"
   ]
  },
  {
   "cell_type": "code",
   "execution_count": 3,
   "metadata": {},
   "outputs": [],
   "source": [
    "os.chdir(\"../\")"
   ]
  },
  {
   "cell_type": "code",
   "execution_count": 4,
   "metadata": {},
   "outputs": [
    {
     "data": {
      "text/plain": [
       "'/home/muhammed-shafeeh/AI_ML/End_to_end_ml_project_Mlflow'"
      ]
     },
     "execution_count": 4,
     "metadata": {},
     "output_type": "execute_result"
    }
   ],
   "source": [
    "%pwd\n"
   ]
  },
  {
   "cell_type": "code",
   "execution_count": 5,
   "metadata": {},
   "outputs": [
    {
     "data": {
      "text/html": [
       "<pre style=\"white-space:pre;overflow-x:auto;line-height:normal;font-family:Menlo,'DejaVu Sans Mono',consolas,'Courier New',monospace\">Accessing as shafeeh011\n",
       "</pre>\n"
      ],
      "text/plain": [
       "Accessing as shafeeh011\n"
      ]
     },
     "metadata": {},
     "output_type": "display_data"
    },
    {
     "data": {
      "text/html": [
       "<pre style=\"white-space:pre;overflow-x:auto;line-height:normal;font-family:Menlo,'DejaVu Sans Mono',consolas,'Courier New',monospace\">Initialized MLflow to track repo <span style=\"color: #008000; text-decoration-color: #008000\">\"shafeeh011/my-first-repo\"</span>\n",
       "</pre>\n"
      ],
      "text/plain": [
       "Initialized MLflow to track repo \u001b[32m\"shafeeh011/my-first-repo\"\u001b[0m\n"
      ]
     },
     "metadata": {},
     "output_type": "display_data"
    },
    {
     "data": {
      "text/html": [
       "<pre style=\"white-space:pre;overflow-x:auto;line-height:normal;font-family:Menlo,'DejaVu Sans Mono',consolas,'Courier New',monospace\">Repository shafeeh011/my-first-repo initialized!\n",
       "</pre>\n"
      ],
      "text/plain": [
       "Repository shafeeh011/my-first-repo initialized!\n"
      ]
     },
     "metadata": {},
     "output_type": "display_data"
    },
    {
     "name": "stdout",
     "output_type": "stream",
     "text": [
      "🏃 View run skittish-lynx-267 at: https://dagshub.com/shafeeh011/my-first-repo.mlflow/#/experiments/0/runs/880295e303384b67adbfc6653a44e441\n",
      "🧪 View experiment at: https://dagshub.com/shafeeh011/my-first-repo.mlflow/#/experiments/0\n"
     ]
    }
   ],
   "source": [
    "import dagshub\n",
    "dagshub.init(repo_owner='shafeeh011', repo_name='my-first-repo', mlflow=True)\n",
    "\n",
    "import mlflow\n",
    "with mlflow.start_run():\n",
    "  mlflow.log_param('parameter name', 'value')\n",
    "  mlflow.log_metric('metric name', 1)"
   ]
  },
  {
   "cell_type": "code",
   "execution_count": 6,
   "metadata": {},
   "outputs": [],
   "source": [
    "from dataclasses import dataclass\n",
    "from pathlib import Path\n",
    "\n",
    "\n",
    "@dataclass(frozen=True)\n",
    "class ModelEvaluationConfig:\n",
    "    root_dir: Path\n",
    "    test_file_path: Path\n",
    "    model_path: Path\n",
    "    all_params: dict\n",
    "    metric_file_name: Path\n",
    "    target_column: str\n",
    "    mlflow_uri: str"
   ]
  },
  {
   "cell_type": "code",
   "execution_count": 7,
   "metadata": {},
   "outputs": [],
   "source": [
    "from src.mlProject.constants import *\n",
    "from src.mlProject.utils.common import read_yaml, create_directories,save_json"
   ]
  },
  {
   "cell_type": "code",
   "execution_count": 15,
   "metadata": {},
   "outputs": [],
   "source": [
    "class ConfigurationManager:\n",
    "    def __init__(\n",
    "        self,\n",
    "        config_filepath = CONFIG_FILE_PATH,\n",
    "        params_filepath = PARAMS_FILE_PATH,\n",
    "        schema_filepath = SCHEMA_FILE_PATH):\n",
    "\n",
    "        self.config = read_yaml(config_filepath)\n",
    "        self.params = read_yaml(params_filepath)\n",
    "        self.schema = read_yaml(schema_filepath)\n",
    "\n",
    "        create_directories([self.config.artifacts_root])\n",
    "\n",
    "    def get_model_evaluatiion_config(self) -> ModelEvaluationConfig:\n",
    "        config = self.config.model_evaluation\n",
    "        params = self.params.ElasticNet\n",
    "        schema = self.schema.TARGET_COLUMN\n",
    "        \n",
    "        create_directories([config.root_dir])\n",
    "\n",
    "        model_eval_config = ModelEvaluationConfig(\n",
    "            root_dir=config.root_dir,\n",
    "            test_file_path=config.test_file_path,\n",
    "            model_path=config.model_path,\n",
    "            all_params=params,\n",
    "            metric_file_name=config.metric_file_path,\n",
    "            target_column=schema.name,\n",
    "            mlflow_uri=\"https://dagshub.com/shafeeh011/my-first-repo.mlflow\",\n",
    "        )\n",
    "\n",
    "        return model_eval_config"
   ]
  },
  {
   "cell_type": "code",
   "execution_count": 9,
   "metadata": {},
   "outputs": [],
   "source": [
    "import os\n",
    "import pandas as pd\n",
    "from sklearn.metrics import mean_squared_error, mean_absolute_error, r2_score\n",
    "import numpy as np\n",
    "import joblib\n",
    "import mlflow\n",
    "import mlflow.sklearn\n",
    "from urllib.parse import urlparse"
   ]
  },
  {
   "cell_type": "code",
   "execution_count": 10,
   "metadata": {},
   "outputs": [],
   "source": [
    "class ModelEvaluation:\n",
    "    def __init__(self, config: ModelEvaluationConfig):\n",
    "        self.config = config\n",
    "        \n",
    "\n",
    "    def eval_metrics(self,actual, pred):\n",
    "        rmse = np.sqrt(mean_squared_error(actual, pred))\n",
    "        mae = mean_absolute_error(actual, pred)\n",
    "        r2 = r2_score(actual, pred)\n",
    "        return rmse, mae, r2\n",
    "    \n",
    "    \n",
    "    def log_into_mlflow(self):\n",
    "\n",
    "        test_data = pd.read_csv(self.config.test_file_path)\n",
    "        model = joblib.load(self.config.model_path)\n",
    "\n",
    "        test_x = test_data.drop([self.config.target_column], axis=1)\n",
    "        test_y = test_data[[self.config.target_column]]\n",
    "\n",
    "\n",
    "        mlflow.set_registry_uri(self.config.mlflow_uri)\n",
    "        tracking_url_type_store = urlparse(mlflow.get_tracking_uri()).scheme\n",
    "\n",
    "\n",
    "        with mlflow.start_run():\n",
    "\n",
    "            predicted_qualities = model.predict(test_x)\n",
    "\n",
    "            (rmse, mae, r2) = self.eval_metrics(test_y, predicted_qualities)\n",
    "            \n",
    "            # Saving metrics as local\n",
    "            scores = {\"rmse\": rmse, \"mae\": mae, \"r2\": r2}\n",
    "            save_json(path=Path(self.config.metric_file_name), data=scores)\n",
    "\n",
    "            mlflow.log_params(self.config.all_params)\n",
    "\n",
    "            mlflow.log_metric(\"rmse\", rmse)\n",
    "            mlflow.log_metric(\"r2\", r2)\n",
    "            mlflow.log_metric(\"mae\", mae)\n",
    "\n",
    "\n",
    "            # Model registry does not work with file store\n",
    "            if tracking_url_type_store != \"file\":\n",
    "\n",
    "                # Register the model\n",
    "                # There are other ways to use the Model Registry, which depends on the use case,\n",
    "                # please refer to the doc for more information:\n",
    "                # https://mlflow.org/docs/latest/model-registry.html#api-workflow\n",
    "                mlflow.sklearn.log_model(model, \"model\", registered_model_name=\"ElasticnetModel\")\n",
    "            else:\n",
    "                mlflow.sklearn.log_model(model, \"model\")\n",
    "\n",
    "\n",
    "        \n",
    "        "
   ]
  },
  {
   "cell_type": "code",
   "execution_count": 13,
   "metadata": {},
   "outputs": [
    {
     "name": "stdout",
     "output_type": "stream",
     "text": [
      "[2025-02-06 19:48:43,319: INFO: common: yaml file: config/config.yaml loaded successfully]\n",
      "[2025-02-06 19:48:43,322: INFO: common: yaml file: params.yaml loaded successfully]\n",
      "[2025-02-06 19:48:43,325: INFO: common: yaml file: schema.yaml loaded successfully]\n",
      "[2025-02-06 19:48:43,326: INFO: common: created directory at: artifacts]\n",
      "[2025-02-06 19:48:43,328: INFO: common: created directory at: artifacts/model_evaluation]\n",
      "[2025-02-06 19:48:43,703: INFO: common: json file saved at: artifacts/model_evaluation/metric.json]\n"
     ]
    },
    {
     "name": "stderr",
     "output_type": "stream",
     "text": [
      "\u001b[31m2025/02/06 19:48:47 WARNING mlflow.models.model: Model logged without a signature and input example. Please set `input_example` parameter when logging the model to auto infer the model signature.\u001b[0m\n",
      "Registered model 'ElasticnetModel' already exists. Creating a new version of this model...\n",
      "2025/02/06 19:48:52 INFO mlflow.store.model_registry.abstract_store: Waiting up to 300 seconds for model version to finish creation. Model name: ElasticnetModel, version 9\n",
      "Created version '9' of model 'ElasticnetModel'.\n"
     ]
    },
    {
     "name": "stdout",
     "output_type": "stream",
     "text": [
      "🏃 View run persistent-ram-941 at: https://dagshub.com/shafeeh011/my-first-repo.mlflow/#/experiments/0/runs/9031ed5d95e0467fbb063ee9ad4dd3fe\n",
      "🧪 View experiment at: https://dagshub.com/shafeeh011/my-first-repo.mlflow/#/experiments/0\n"
     ]
    }
   ],
   "source": [
    "try:\n",
    "    config = ConfigurationManager()\n",
    "    model_eval_config = config.get_model_evaluatiion_config()\n",
    "    model_eval_config = ModelEvaluation(config=model_eval_config)\n",
    "    model_eval_config.log_into_mlflow()\n",
    "except Exception as e:\n",
    "    raise e\n"
   ]
  },
  {
   "cell_type": "code",
   "execution_count": 16,
   "metadata": {},
   "outputs": [
    {
     "name": "stdout",
     "output_type": "stream",
     "text": [
      "[2025-02-06 20:10:08,032: INFO: 1430539333: >>>>>> stage Model Evaluation stage started <<<<<<]\n",
      "[2025-02-06 20:10:08,035: INFO: common: yaml file: config/config.yaml loaded successfully]\n",
      "[2025-02-06 20:10:08,037: INFO: common: yaml file: params.yaml loaded successfully]\n",
      "[2025-02-06 20:10:08,038: INFO: common: yaml file: schema.yaml loaded successfully]\n",
      "[2025-02-06 20:10:08,039: INFO: common: created directory at: artifacts]\n",
      "[2025-02-06 20:10:08,040: INFO: common: created directory at: artifacts/model_evaluation]\n",
      "[2025-02-06 20:10:08,041: INFO: model_evaluation: Model Evaluation started]\n",
      "[2025-02-06 20:10:08,043: INFO: model_evaluation: Test data loaded successfully]\n",
      "[2025-02-06 20:10:08,045: INFO: model_evaluation: Model loaded successfully]\n",
      "[2025-02-06 20:12:08,082: WARNING: connectionpool: Retrying (Retry(total=6, connect=7, read=6, redirect=7, status=7)) after connection broken by 'ReadTimeoutError(\"HTTPSConnectionPool(host='dagshub.com', port=443): Read timed out. (read timeout=120)\")': /shafeeh011/my-first-repo.mlflow/api/2.0/mlflow/runs/create]\n",
      "[2025-02-06 20:12:08,682: INFO: model_evaluation: MLflow run started]\n",
      "[2025-02-06 20:12:08,686: INFO: model_evaluation: Predictions made successfully]\n",
      "[2025-02-06 20:12:08,693: INFO: model_evaluation: Metrics calculated successfully]\n",
      "[2025-02-06 20:12:08,695: INFO: common: json file saved at: artifacts/model_evaluation/metric.json]\n",
      "[2025-02-06 20:12:08,696: INFO: model_evaluation: Metrics saved locally]\n",
      "[2025-02-06 20:12:09,155: INFO: model_evaluation: Hyperparameters logged]\n",
      "[2025-02-06 20:12:10,411: INFO: model_evaluation: Metrics logged]\n"
     ]
    },
    {
     "name": "stderr",
     "output_type": "stream",
     "text": [
      "\u001b[31m2025/02/06 20:12:12 WARNING mlflow.models.model: Model logged without a signature and input example. Please set `input_example` parameter when logging the model to auto infer the model signature.\u001b[0m\n",
      "Registered model 'ElasticnetModel' already exists. Creating a new version of this model...\n",
      "2025/02/06 20:12:20 INFO mlflow.store.model_registry.abstract_store: Waiting up to 300 seconds for model version to finish creation. Model name: ElasticnetModel, version 10\n"
     ]
    },
    {
     "name": "stdout",
     "output_type": "stream",
     "text": [
      "[2025-02-06 20:12:20,535: INFO: model_evaluation: Model registered]\n"
     ]
    },
    {
     "name": "stderr",
     "output_type": "stream",
     "text": [
      "Created version '10' of model 'ElasticnetModel'.\n"
     ]
    },
    {
     "name": "stdout",
     "output_type": "stream",
     "text": [
      "🏃 View run illustrious-bird-720 at: https://dagshub.com/shafeeh011/my-first-repo.mlflow/#/experiments/0/runs/d9e3502e5112499ba96c29fe2957cdea\n",
      "🧪 View experiment at: https://dagshub.com/shafeeh011/my-first-repo.mlflow/#/experiments/0\n",
      "[2025-02-06 20:12:22,016: INFO: model_evaluation: Model Evaluation completed]\n",
      "[2025-02-06 20:12:22,017: INFO: 1430539333: >>>>>> stage Model Evaluation stage completed <<<<<<\n",
      "\n",
      "x===========x]\n"
     ]
    }
   ],
   "source": [
    "from src.mlProject.config.configuration import ConfigurationManager\n",
    "from src.mlProject.components.model_evaluation import ModelEvaluation\n",
    "from src.mlProject import logger\n",
    "\n",
    "STAGE_NAME = \"Model Evaluation stage\"\n",
    "\n",
    "class ModelEvaluationTrainingPipeline:  \n",
    "    def __init__(self):\n",
    "        pass\n",
    "\n",
    "    def main(self):\n",
    "        config = ConfigurationManager()\n",
    "        model_eval_config = config.get_model_evaluatiion_config()\n",
    "        model_eval_config = ModelEvaluation(config=model_eval_config)\n",
    "        model_eval_config.log_into_mlflow()\n",
    "        \n",
    "if __name__ == \"__main__\":\n",
    "    try:\n",
    "        logger.info(f\">>>>>> stage {STAGE_NAME} started <<<<<<\")\n",
    "        obj = ModelEvaluationTrainingPipeline()\n",
    "        obj.main()  \n",
    "        logger.info(f\">>>>>> stage {STAGE_NAME} completed <<<<<<\\n\\nx===========x\")\n",
    "    except Exception as e:    \n",
    "        raise e\n",
    "    \n"
   ]
  },
  {
   "cell_type": "code",
   "execution_count": null,
   "metadata": {},
   "outputs": [],
   "source": []
  }
 ],
 "metadata": {
  "kernelspec": {
   "display_name": ".venv",
   "language": "python",
   "name": "python3"
  },
  "language_info": {
   "codemirror_mode": {
    "name": "ipython",
    "version": 3
   },
   "file_extension": ".py",
   "mimetype": "text/x-python",
   "name": "python",
   "nbconvert_exporter": "python",
   "pygments_lexer": "ipython3",
   "version": "3.12.7"
  }
 },
 "nbformat": 4,
 "nbformat_minor": 2
}
